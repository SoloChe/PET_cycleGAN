{
 "cells": [
  {
   "cell_type": "code",
   "execution_count": 1,
   "metadata": {},
   "outputs": [
    {
     "name": "stdout",
     "output_type": "stream",
     "text": [
      "Correlation between FBP and PIB without harmonization: 0.9457248966189515\n",
      "FBP train:  (12036, 85) FBP val:  (317, 85) FBP test:  (317, 85) PIB train:  (12036, 85) PIB val:  (317, 85) PIB test:  (317, 85)\n"
     ]
    }
   ],
   "source": [
    "from data_PET_test import read_data\n",
    "from MCSUVR import cal_correlation\n",
    "import pandas as pd\n",
    "from data_PET_test import cal_MCSUVR_torch\n",
    "import torch\n",
    "from sklearn.model_selection import train_test_split\n",
    "import numpy as np\n",
    "\n",
    "torch.random.manual_seed(0)\n",
    "np.random.seed(0)\n",
    "\n",
    "# age = pd.read_csv(\"data_PET/test/NIdata.csv\", header=None)[0].to_numpy()\n",
    "age = pd.read_csv(\"data_PET/test2/Sim2NI.csv\")[\"Age\"].to_numpy()\n",
    "age_max = age.max()\n",
    "age /= age_max\n",
    "\n",
    "data_FBP = read_data(\"data_PET/test3/MSUVRFBP_V3.csv\")\n",
    "data_PIB = read_data(\"data_PET/test3/MSUVRPIB_V3.csv\")\n",
    "mc_fbp = cal_MCSUVR_torch(data_FBP)\n",
    "mc_pib = cal_MCSUVR_torch(data_PIB)\n",
    "cor = cal_correlation(mc_fbp.cpu().numpy(), mc_pib.cpu().numpy())\n",
    "print(\"Correlation between FBP and PIB without harmonization:\", cor)\n",
    "\n",
    "\n",
    "\n",
    "FBP_train, FBP_test, PIB_train, PIB_test, AGE_train, AGE_test = train_test_split(\n",
    "    data_FBP, data_PIB, age, test_size=0.05, random_state=42\n",
    ")\n",
    "\n",
    "val_num = int(len(FBP_test) // 2)\n",
    "FBP_val = FBP_test[:val_num]\n",
    "PIB_val = PIB_test[:val_num]\n",
    "AGE_val = AGE_test[:val_num]\n",
    "FBP_test = FBP_test[val_num:]\n",
    "PIB_test = PIB_test[val_num:]\n",
    "AGE_test = AGE_test[val_num:]\n",
    "\n",
    "print(\n",
    "    \"FBP train: \", FBP_train.shape,\n",
    "    \"FBP val: \", FBP_val.shape,\n",
    "    \"FBP test: \", FBP_test.shape,\n",
    "    \"PIB train: \", PIB_train.shape,\n",
    "    \"PIB val: \", PIB_val.shape,\n",
    "    \"PIB test: \", PIB_test.shape,\n",
    ")\n",
    "\n",
    "\n"
   ]
  },
  {
   "cell_type": "code",
   "execution_count": 2,
   "metadata": {},
   "outputs": [],
   "source": [
    "class MLP(torch.nn.Module):\n",
    "    def __init__(self, width=10, out_width=85):\n",
    "        super(MLP, self).__init__()\n",
    "        self.fc1 = torch.nn.Linear(85, width)\n",
    "        self.fc2 = torch.nn.Linear(width, width)\n",
    "        self.fc3 = torch.nn.Linear(width, width)\n",
    "        self.fc4 = torch.nn.Linear(width, out_width)\n",
    "       \n",
    "        self.activation1 = torch.nn.Tanh()  \n",
    "        self.activation2 = torch.nn.LeakyReLU()\n",
    "     \n",
    "        \n",
    "        \n",
    "    def forward(self, x):\n",
    "        x = self.fc1(x)\n",
    "        x = self.activation2(x)\n",
    "    \n",
    "        x = self.fc2(x)\n",
    "        x = self.activation2(x)\n",
    "        \n",
    "        x = self.fc3(x)\n",
    "        x = self.activation2(x)\n",
    "     \n",
    "        x = self.fc4(x)\n",
    "        return x\n",
    "    \n",
    "class MLP_AGE(MLP):\n",
    "    def __init__(self, width=10, out_width=1):\n",
    "        super(MLP_AGE, self).__init__(width, out_width)\n",
    "        \n",
    "        \n",
    "def run_exp(model, data, epochs, exp_type=None):\n",
    "    \n",
    "    import torch.optim as optim\n",
    "    FBP_train, FBP_val, FBP_test, PIB_train, PIB_val, PIB_test = data\n",
    "    best_val = -float('inf')\n",
    "    model = MLP(width=200)\n",
    "    opt = optim.AdamW(model.parameters(), lr=0.0005)\n",
    "    loss_fn = torch.nn.functional.mse_loss\n",
    "    \n",
    "    for i in range(epochs):\n",
    "        model.train()\n",
    "        opt.zero_grad()\n",
    "        PIB_pred = model(FBP_train)\n",
    "        loss = loss_fn(PIB_pred, PIB_train)\n",
    "        loss.backward()\n",
    "        opt.step()\n",
    "        \n",
    "    \n",
    "        model.eval()\n",
    "        with torch.no_grad():\n",
    "            PIB_pred_test = model(FBP_test)\n",
    "            PIB_pred_val = model(FBP_val)\n",
    "            # loss_test = loss_fn(PIB_pred_test, PIB_test)\n",
    "            # loss_val = loss_fn(PIB_pred_val, PIB_val)\n",
    "            \n",
    "            MC_PIB_pred_test = cal_MCSUVR_torch(PIB_pred_test)\n",
    "            MC_PIB_pred_test_real = cal_MCSUVR_torch(PIB_test)\n",
    "            MC_PIB_pred_val = cal_MCSUVR_torch(PIB_pred_val)\n",
    "            MC_PIB_pred_val_real = cal_MCSUVR_torch(PIB_val)\n",
    "            \n",
    "            val_cor = cal_correlation(\n",
    "                MC_PIB_pred_val.cpu().numpy(), MC_PIB_pred_val_real.cpu().numpy()\n",
    "            )\n",
    "            \n",
    "            if val_cor > best_val:\n",
    "                best_val = val_cor\n",
    "                test_cor = cal_correlation(\n",
    "                    MC_PIB_pred_test.cpu().numpy(), MC_PIB_pred_test_real.cpu().numpy()\n",
    "                    )      \n",
    "    print(f\"Best Val {best_val:.4f} -> cor: {test_cor:.4f}\")\n",
    "            "
   ]
  },
  {
   "cell_type": "markdown",
   "metadata": {},
   "source": [
    "# Paired Translation"
   ]
  },
  {
   "cell_type": "code",
   "execution_count": 3,
   "metadata": {},
   "outputs": [],
   "source": [
    "FBP_val = torch.tensor(FBP_val, dtype=torch.float32)\n",
    "FBP_test = torch.tensor(FBP_test, dtype=torch.float32)\n",
    "PIB_val = torch.tensor(PIB_val, dtype=torch.float32)\n",
    "PIB_test = torch.tensor(PIB_test, dtype=torch.float32)\n",
    "AGE_val = torch.tensor(AGE_val, dtype=torch.float32)\n",
    "AGE_test = torch.tensor(AGE_test, dtype=torch.float32)"
   ]
  },
  {
   "cell_type": "code",
   "execution_count": 4,
   "metadata": {},
   "outputs": [
    {
     "name": "stdout",
     "output_type": "stream",
     "text": [
      "Running experiment with 10 training data\n",
      "Best Val 0.9555 -> cor: 0.9540\n",
      "Running experiment with 50 training data\n",
      "Best Val 0.9875 -> cor: 0.9872\n",
      "Running experiment with 100 training data\n",
      "Best Val 0.9878 -> cor: 0.9874\n",
      "Running experiment with 500 training data\n",
      "Best Val 0.9873 -> cor: 0.9876\n",
      "Running experiment with 1000 training data\n",
      "Best Val 0.9880 -> cor: 0.9880\n",
      "Running experiment with 2000 training data\n",
      "Best Val 0.9875 -> cor: 0.9875\n",
      "Running experiment with 5000 training data\n",
      "Best Val 0.9873 -> cor: 0.9875\n",
      "Running experiment with 10000 training data\n",
      "Best Val 0.9873 -> cor: 0.9876\n"
     ]
    }
   ],
   "source": [
    "for num in [10, 50, 100, 500, 1000, 2000, 5000, 10000]:\n",
    "    print(f\"Running experiment with {num} training data\")\n",
    "    \n",
    "    train_idx = np.random.choice(len(FBP_train), size=num, replace=False)\n",
    "    FBP_train_ = FBP_train[train_idx]\n",
    "    PIB_train_ = PIB_train[train_idx]\n",
    "    \n",
    "    # tensor\n",
    "    FBP_train_ = torch.tensor(FBP_train_, dtype=torch.float32)\n",
    "    \n",
    "    PIB_train_ = torch.tensor(PIB_train_, dtype=torch.float32)\n",
    "   \n",
    "    \n",
    "    \n",
    "    data = (\n",
    "    FBP_train_, FBP_val, FBP_test,\n",
    "    PIB_train_, PIB_val, PIB_test\n",
    "    )\n",
    "    run_exp(MLP(), data, epochs=200)\n",
    "            "
   ]
  },
  {
   "cell_type": "code",
   "execution_count": 5,
   "metadata": {},
   "outputs": [
    {
     "data": {
      "text/plain": [
       "<matplotlib.legend.Legend at 0x155457d8ab60>"
      ]
     },
     "execution_count": 5,
     "metadata": {},
     "output_type": "execute_result"
    },
    {
     "data": {
      "image/png": "[encoded data removed]",
      "text/plain": [
       "<Figure size 640x480 with 1 Axes>"
      ]
     },
     "metadata": {},
     "output_type": "display_data"
    }
   ],
   "source": [
    "import matplotlib.pyplot as plt\n",
    "num_samples = [10, 50, 100, 500, 1000, 2000, 5000, 10000]\n",
    "test_cor_paired = [0.9540, 0.9872, 0.9874, 0.9876, 0.9880, 0.9875, 0.9875, 0.9876] \n",
    "test_cor_unpaired = [0.9583, 0.9545, 0.9645, 0.9634, 0.9677, 0.9697, 0.9672, 0.9716]\n",
    "\n",
    "plt.figure()\n",
    "plt.plot(num_samples, test_cor_paired, marker='o', label=\"paired\")\n",
    "plt.plot(num_samples, test_cor_unpaired, marker='x', label=\"unpaired\")\n",
    "plt.xlabel(\"Number of training samples\")\n",
    "plt.ylabel(\"Correlation\")\n",
    "plt.legend()"
   ]
  },
  {
   "cell_type": "markdown",
   "metadata": {},
   "source": [
    "# Age prediction"
   ]
  },
  {
   "cell_type": "code",
   "execution_count": 24,
   "metadata": {},
   "outputs": [
    {
     "name": "stdout",
     "output_type": "stream",
     "text": [
      "Best Val 4.2574 -> loss: 4.0467\n"
     ]
    }
   ],
   "source": [
    "#### DATA \n",
    "num = 1000\n",
    "train_idx = np.random.choice(len(FBP_train), size=num, replace=False)\n",
    "FBP_train_ = FBP_train[train_idx]\n",
    "PIB_train_ = PIB_train[train_idx]\n",
    "AGE_train_ = AGE_train[train_idx]\n",
    "\n",
    "FBP_train_ = torch.tensor(FBP_train_, dtype=torch.float32)    \n",
    "PIB_train_ = torch.tensor(PIB_train_, dtype=torch.float32)\n",
    "AGE_train_ = torch.tensor(AGE_train_, dtype=torch.float32)\n",
    "\n",
    "\n",
    "\n",
    "#### MODEL\n",
    "import torch.optim as optim\n",
    "best_test = float('inf')\n",
    "model = MLP_AGE(width=300)\n",
    "opt = optim.AdamW(model.parameters(), lr=0.0005)\n",
    "loss_fn = torch.nn.functional.l1_loss\n",
    "loss_fn_l1 = torch.nn.functional.l1_loss\n",
    "\n",
    "best_val = float('inf')\n",
    "for i in range(1000):\n",
    "    model.train()\n",
    "    opt.zero_grad()\n",
    "    AGE_pred = model(PIB_train_)\n",
    "    loss = loss_fn(AGE_pred.ravel(), AGE_train_)\n",
    "    loss.backward()\n",
    "    opt.step()\n",
    "     \n",
    "    \n",
    "    model.eval()\n",
    "    with torch.no_grad():\n",
    "        age_pred_val = model(PIB_val)\n",
    "        loss_val = loss_fn_l1(age_pred_val.ravel()*age_max, AGE_val*age_max)\n",
    "        \n",
    "        if loss_val < best_val:\n",
    "            best_val = loss_val\n",
    "            age_pred_test = model(PIB_test)\n",
    "            loss_test = loss_fn_l1(age_pred_test.ravel()*age_max, AGE_test*age_max)\n",
    "                \n",
    "print(f\"Best Val {best_val:.4f} -> loss: {loss_test:.4f}\")"
   ]
  },
  {
   "cell_type": "markdown",
   "metadata": {},
   "source": [
    "# TSNE"
   ]
  },
  {
   "cell_type": "markdown",
   "metadata": {},
   "source": [
    "# TSNE for paired_val_FBP and paired_test_FBP\n",
    "from sklearn.manifold import TSNE\n",
    "import matplotlib.pyplot as plt\n",
    "\n",
    "paired_FBP = torch.cat([paired_val_FBP, paired_test_FBP], dim=0)\n",
    "\n",
    "tsne = TSNE(n_components=2, random_state=0)\n",
    "X_2d = tsne.fit_transform(paired_FBP.cpu().numpy())\n",
    "\n",
    "plt.figure(figsize=(6, 5))\n",
    "plt.scatter(X_2d[:len(paired_val_FBP), 0], X_2d[:len(paired_val_FBP), 1], label='paired_val_FBP')\n",
    "plt.scatter(X_2d[len(paired_val_FBP):, 0], X_2d[len(paired_val_FBP):, 1], label='paired_test_FBP')\n",
    "plt.legend()"
   ]
  }
 ],
 "metadata": {
  "kernelspec": {
   "display_name": "torch_base",
   "language": "python",
   "name": "python3"
  },
  "language_info": {
   "codemirror_mode": {
    "name": "ipython",
    "version": 3
   },
   "file_extension": ".py",
   "mimetype": "text/x-python",
   "name": "python",
   "nbconvert_exporter": "python",
   "pygments_lexer": "ipython3",
   "version": "3.10.13"
  }
 },
 "nbformat": 4,
 "nbformat_minor": 2
}
